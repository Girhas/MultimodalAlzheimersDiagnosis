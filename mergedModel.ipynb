{
 "cells": [
  {
   "cell_type": "code",
   "execution_count": 1,
   "metadata": {},
   "outputs": [
    {
     "name": "stdout",
     "output_type": "stream",
     "text": [
      "The audio file is classified as: AD with confidence 1.00\n"
     ]
    },
    {
     "name": "stderr",
     "output_type": "stream",
     "text": [
      "c:\\Users\\qscre\\miniconda3\\envs\\aml\\Lib\\site-packages\\transformers\\models\\whisper\\modeling_whisper.py:599: UserWarning: 1Torch was not compiled with flash attention. (Triggered internally at C:\\actions-runner\\_work\\pytorch\\pytorch\\builder\\windows\\pytorch\\aten\\src\\ATen\\native\\transformers\\cuda\\sdp_utils.cpp:555.)\n",
      "  attn_output = torch.nn.functional.scaled_dot_product_attention(\n"
     ]
    }
   ],
   "source": [
    "from audioClassifier import classify_audio_file\n",
    "# Example usage\n",
    "audio_file_path = \"Samples/adrso035_ad.wav\"  # Replace with your audio file path\n",
    "predicted_class_audio, confidence_audio = classify_audio_file(audio_file_path)\n",
    "\n",
    "# Output the classification result and confidence\n",
    "print(f\"The audio file is classified as: {predicted_class_audio} with confidence {confidence_audio:.2f}\")"
   ]
  },
  {
   "cell_type": "code",
   "execution_count": 2,
   "metadata": {},
   "outputs": [
    {
     "name": "stderr",
     "output_type": "stream",
     "text": [
      "<>:2: SyntaxWarning: invalid escape sequence '\\A'\n",
      "<>:2: SyntaxWarning: invalid escape sequence '\\A'\n",
      "C:\\Users\\qscre\\AppData\\Local\\Temp\\ipykernel_27900\\2398153610.py:2: SyntaxWarning: invalid escape sequence '\\A'\n",
      "  image_path = 'Samples\\AD2.jpg'\n"
     ]
    },
    {
     "name": "stdout",
     "output_type": "stream",
     "text": [
      "WARNING:tensorflow:From c:\\Users\\qscre\\miniconda3\\envs\\aml\\Lib\\site-packages\\keras\\src\\backend\\tensorflow\\core.py:204: The name tf.placeholder is deprecated. Please use tf.compat.v1.placeholder instead.\n",
      "\n",
      "\u001b[1m1/1\u001b[0m \u001b[32m━━━━━━━━━━━━━━━━━━━━\u001b[0m\u001b[37m\u001b[0m \u001b[1m4s\u001b[0m 4s/step\n",
      "Predicted Class: AD\n",
      "Confidence Score: 59.20%\n"
     ]
    }
   ],
   "source": [
    "# Path to the single image file\n",
    "image_path = 'Samples\\AD2.jpg'\n",
    "from imageClassifier import predict_image\n",
    "\n",
    "\n",
    "predicted_class, confidence_score = predict_image(image_path)\n",
    "\n",
    "# Print the predicted class and confidence\n",
    "print(f'Predicted Class: {predicted_class}')\n",
    "print(f'Confidence Score: {confidence_score[0] * 100:.2f}%')\n"
   ]
  },
  {
   "cell_type": "code",
   "execution_count": 3,
   "metadata": {},
   "outputs": [
    {
     "name": "stdout",
     "output_type": "stream",
     "text": [
      "0.59199154\n"
     ]
    }
   ],
   "source": [
    "print(confidence_score[0])"
   ]
  },
  {
   "cell_type": "code",
   "execution_count": 6,
   "metadata": {},
   "outputs": [
    {
     "name": "stdout",
     "output_type": "stream",
     "text": [
      "CN 0.9966778755187988 AD CN\n",
      "Combined Belief: {frozenset({'AD'}): 0.9977079811174048, frozenset({'CN'}): 0.0022920188825951986}\n"
     ]
    }
   ],
   "source": [
    "from ds import combine_beliefs\n",
    "uncertainty_class = \"\"\n",
    "uncertainty_class_audio = \"\"\n",
    "if predicted_class == \"CN\" :\n",
    "    uncertainty_class = \"AD\"\n",
    "else:\n",
    "    uncertainty_class = \"CN\"\n",
    "if predicted_class_audio == \"CN\" :\n",
    "    uncertainty_class_audio = \"AD\"\n",
    "else:\n",
    "    uncertainty_class_audio = \"CN\"\n",
    "print(uncertainty_class_audio,confidence_audio, predicted_class, uncertainty_class)\n",
    "belief1 = {\n",
    "    frozenset({predicted_class_audio}): confidence_audio,\n",
    "    frozenset({uncertainty_class_audio}): 1-confidence_audio  # Uncertainty\n",
    "}\n",
    "\n",
    "belief2 = {\n",
    "    frozenset({predicted_class}): confidence_score[0],\n",
    "    frozenset({uncertainty_class}): 1-confidence_score[0]  # Uncertainty\n",
    "}\n",
    "\n",
    "\n",
    "combined_belief = combine_beliefs(belief1, belief2)\n",
    "print(\"Combined Belief:\", combined_belief)\n"
   ]
  }
 ],
 "metadata": {
  "kernelspec": {
   "display_name": "aml",
   "language": "python",
   "name": "python3"
  },
  "language_info": {
   "codemirror_mode": {
    "name": "ipython",
    "version": 3
   },
   "file_extension": ".py",
   "mimetype": "text/x-python",
   "name": "python",
   "nbconvert_exporter": "python",
   "pygments_lexer": "ipython3",
   "version": "3.12.4"
  }
 },
 "nbformat": 4,
 "nbformat_minor": 2
}
